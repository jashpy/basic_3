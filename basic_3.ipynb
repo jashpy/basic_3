{
 "cells": [
  {
   "cell_type": "markdown",
   "id": "3ac8ddbd-6a22-4043-88ce-bc9d5d9506af",
   "metadata": {},
   "source": [
    "problem-1"
   ]
  },
  {
   "cell_type": "code",
   "execution_count": 1,
   "id": "9164e629-6e87-4b59-b35f-0dda8543ed3a",
   "metadata": {},
   "outputs": [
    {
     "name": "stdout",
     "output_type": "stream",
     "text": [
      "[1, 3, 5, 7, 9, 11, 13, 15, 17, 19, 21, 23, 25]\n"
     ]
    }
   ],
   "source": [
    "'''Q1. Which keyword is used to create a function? Create a function to \n",
    "return a list of odd numbers in the\n",
    "range of 1 to 25.'''\n",
    "#ans-the \"def\" keyword is used to create function in python.\n",
    "\n",
    "def odd_num():\n",
    "    l=[]\n",
    "    for i in range(1,26):\n",
    "        if(i%2!=0):\n",
    "            l.append(i)\n",
    "    return l\n",
    "print(odd_num())\n",
    "            "
   ]
  },
  {
   "cell_type": "markdown",
   "id": "14875302-baad-48cd-b3e6-2fa6a1b7936c",
   "metadata": {},
   "source": [
    "problem-2"
   ]
  },
  {
   "cell_type": "code",
   "execution_count": 2,
   "id": "0b8c984d-ac40-4a43-934d-357575261d83",
   "metadata": {},
   "outputs": [
    {
     "name": "stdout",
     "output_type": "stream",
     "text": [
      "(12, 14, 56.4, 'skills')\n",
      "<class 'tuple'>\n",
      "{'a': 34, 'b': 'python', 'game': 'call of duty'}\n",
      "<class 'dict'>\n"
     ]
    }
   ],
   "source": [
    "'''Q2. Why *args and **kwargs is used in some functions? Create a function\n",
    "each for *args and **kwargs\n",
    "to demonstrate their use.'''\n",
    "'''ANS-*args are used to pass n number of inputs in a function and\n",
    "getting all the inputs as it is by calling \n",
    "the function in the type of tuple data type\n",
    "**kwargs are used to pass n number of inputs in a function in the type of\n",
    "key value pairs and get the data \n",
    "in the form of key value pairs or we can say dictionary data type after \n",
    "calling the function'''\n",
    "\n",
    "def test1(*args):\n",
    "    return args\n",
    "print(test1(12,14,56.4,\"skills\"))\n",
    "print(type(test1()))\n",
    "\n",
    "def test2(**kwargs):\n",
    "    return kwargs\n",
    "print(test2(a=34,b=\"python\",game=\"call of duty\"))\n",
    "print(type(test2()))\n",
    "    "
   ]
  },
  {
   "cell_type": "markdown",
   "id": "a0632d66-4d5c-4843-b3dc-abe2a0807485",
   "metadata": {},
   "source": [
    "problem-3"
   ]
  },
  {
   "cell_type": "code",
   "execution_count": 3,
   "id": "bccf8e4c-6a5b-4c93-a029-84e70190249d",
   "metadata": {},
   "outputs": [
    {
     "name": "stdout",
     "output_type": "stream",
     "text": [
      "2\n",
      "4\n",
      "6\n",
      "8\n",
      "10\n"
     ]
    }
   ],
   "source": [
    "'''Q3. What is an iterator in python? Name the method used to initialise the \n",
    "iterator object and the method\n",
    "used for iteration. Use these methods to print the first five elements of the \n",
    "given list [2, 4, 6, 8, 10, 12, 14,\n",
    "16, 18, 20].'''\n",
    "'''ans-Iterators in python means basically they check every values one by one \n",
    "means they iterates throughout \n",
    "the loop one by one they check every element(can performs the operations on\n",
    "each element).\n",
    "normally we can do it by ''iter()'' method or we can say we can we also use \n",
    "loop.'''\n",
    "\n",
    "l=[2, 4, 6, 8, 10, 12, 14, 16, 18, 20]\n",
    "\n",
    "l1=iter(l)\n",
    "print(next(l1))\n",
    "print(next(l1))\n",
    "print(next(l1))\n",
    "print(next(l1))\n",
    "print(next(l1))    #printing first 5 elements\n",
    "\n",
    "\n",
    "    \n"
   ]
  },
  {
   "cell_type": "markdown",
   "id": "36d84a08-5b9b-47f3-8c0a-9f4f0f2c7f20",
   "metadata": {},
   "source": [
    "problem-4"
   ]
  },
  {
   "cell_type": "code",
   "execution_count": 4,
   "id": "9bf3b223-8d69-4204-9c11-d661aa75f273",
   "metadata": {},
   "outputs": [
    {
     "name": "stdout",
     "output_type": "stream",
     "text": [
      "12\n",
      "20\n"
     ]
    }
   ],
   "source": [
    "'''Q4. What is a generator function in python? Why yield keyword is used? \n",
    "Give an example of a generator\n",
    "function.'''\n",
    "'''ANS-Generator function is basically in python looks like the same normal\n",
    "function we use but if the body\n",
    "contains the keyword ''yield'' instead of ''return'' then it automatically \n",
    "become a generator function.\n",
    "yield keyword is basically used to produce or give a particular value.Example\n",
    "is shown below'''\n",
    "\n",
    "def rand_in():\n",
    "    yield 12\n",
    "    yield 20\n",
    "l=rand_in() \n",
    "print(next(l))\n",
    "print(next(l))\n"
   ]
  },
  {
   "cell_type": "markdown",
   "id": "6a8357a9-4657-422d-b3ad-3589f30873df",
   "metadata": {},
   "source": [
    "problem-5"
   ]
  },
  {
   "cell_type": "code",
   "execution_count": 5,
   "id": "ddfeb9c7-f23e-4e2e-bdc5-1add278ef13b",
   "metadata": {},
   "outputs": [
    {
     "name": "stdout",
     "output_type": "stream",
     "text": [
      "2 3 5 7 11 13 17 19 23 29 31 37 41 43 47 53 59 61 67 71 "
     ]
    }
   ],
   "source": [
    "'''Q5. Create a generator function for prime numbers less than 1000.\n",
    "Use the next() method to print the\n",
    "first 20 prime numbers.'''\n",
    "\n",
    "def test_1(num):\n",
    "    for i in range(2,num):\n",
    "        if(num%i==0):\n",
    "            return False\n",
    "    return True\n",
    "\n",
    "def Generator_prime(num2):\n",
    "    num=2\n",
    "    while num2:\n",
    "        if test_1(num):\n",
    "            yield num\n",
    "            num2-=1\n",
    "        num+=1\n",
    "    return\n",
    "num3=Generator_prime(20)\n",
    "for i in num3:\n",
    "    print(i,end=' ')        "
   ]
  },
  {
   "cell_type": "markdown",
   "id": "fdfdd786-03cc-4a29-9a8a-0ad1b0601638",
   "metadata": {},
   "source": [
    "problem-6"
   ]
  },
  {
   "cell_type": "code",
   "execution_count": 6,
   "id": "2f4f7eb1-3b91-4ab4-a868-7f13917707f2",
   "metadata": {},
   "outputs": [
    {
     "name": "stdout",
     "output_type": "stream",
     "text": [
      "0\n",
      "1\n",
      "1\n",
      "2\n",
      "3\n",
      "5\n",
      "8\n",
      "13\n",
      "21\n",
      "34\n"
     ]
    }
   ],
   "source": [
    "#Q6. Write a python program to print the first 10 Fibonacci numbers \n",
    "#using a while loop.\n",
    "\n",
    "a,b=0,1\n",
    "start=0\n",
    "\n",
    "while(start<10):\n",
    "    print(a)\n",
    "    temp=a+b\n",
    "    a=b\n",
    "    b=temp\n",
    "    start+=1"
   ]
  },
  {
   "cell_type": "markdown",
   "id": "231ce1cd-732d-4ffa-a83c-304921f2f7dc",
   "metadata": {},
   "source": [
    "problem-7"
   ]
  },
  {
   "cell_type": "code",
   "execution_count": 7,
   "id": "f53eaa5f-e77b-4228-b574-000430f58fef",
   "metadata": {},
   "outputs": [
    {
     "name": "stdout",
     "output_type": "stream",
     "text": [
      "['p', 'w', 's', 'k', 'i', 'l', 'l', 's']\n"
     ]
    }
   ],
   "source": [
    "'''Q7. Write a List Comprehension to iterate through the given string:\n",
    "‘pwskills’.\n",
    "Expected output: ['p', 'w', 's', 'k', 'i', 'l', 'l', 's']'''\n",
    "l=\"pwskills\"\n",
    "a=[i for i in l]                    #through list comprehension\n",
    "print(a)"
   ]
  },
  {
   "cell_type": "markdown",
   "id": "09e8345e-01e6-492b-8de5-4c3a1e51f3bd",
   "metadata": {},
   "source": [
    "problem-8"
   ]
  },
  {
   "cell_type": "code",
   "execution_count": 8,
   "id": "dd09e527-ace3-40f5-8262-5ddf170709fc",
   "metadata": {
    "tags": []
   },
   "outputs": [
    {
     "name": "stdin",
     "output_type": "stream",
     "text": [
      "number: 22\n"
     ]
    },
    {
     "name": "stdout",
     "output_type": "stream",
     "text": [
      "yes the given number is a palindrome\n"
     ]
    }
   ],
   "source": [
    "#Q8. Write a python program to check whether a given number is Palindrome\n",
    "#or not using a while loop.\n",
    "n = input(\"number:\")\n",
    "a=n\n",
    "i=0\n",
    "j= len(a)\n",
    "while ( i < len(a)/2 ):\n",
    "        if ( a[i] != a[j-1]):\n",
    "            print(\"NO,this number is not a palindrome\")\n",
    "              \n",
    "        else:\n",
    "            print(\"yes the given number is a palindrome\")\n",
    "        i+=1\n",
    "        j-=1\n",
    "        #input is given as 22"
   ]
  },
  {
   "cell_type": "markdown",
   "id": "a8eb8c30-b0d0-4f10-8817-1b315702deb7",
   "metadata": {},
   "source": [
    "problem-9"
   ]
  },
  {
   "cell_type": "code",
   "execution_count": 9,
   "id": "feabeb02-b324-4180-aaf5-f48729106b26",
   "metadata": {},
   "outputs": [
    {
     "name": "stdout",
     "output_type": "stream",
     "text": [
      "list: [1, 2, 3, 4, 5, 6, 7, 8, 9, 10, 11, 12, 13, 14, 15, 16, 17, 18, 19, 20, 21, 22, 23, 24, 25, 26, 27, 28, 29, 30, 31, 32, 33, 34, 35, 36, 37, 38, 39, 40, 41, 42, 43, 44, 45, 46, 47, 48, 49, 50, 51, 52, 53, 54, 55, 56, 57, 58, 59, 60, 61, 62, 63, 64, 65, 66, 67, 68, 69, 70, 71, 72, 73, 74, 75, 76, 77, 78, 79, 80, 81, 82, 83, 84, 85, 86, 87, 88, 89, 90, 91, 92, 93, 94, 95, 96, 97, 98, 99, 100]\n",
      "new list: [1, 3, 5, 7, 9, 11, 13, 15, 17, 19, 21, 23, 25, 27, 29, 31, 33, 35, 37, 39, 41, 43, 45, 47, 49, 51, 53, 55, 57, 59, 61, 63, 65, 67, 69, 71, 73, 75, 77, 79, 81, 83, 85, 87, 89, 91, 93, 95, 97, 99]\n"
     ]
    }
   ],
   "source": [
    "#Q9. Write a code to print odd numbers from 1 to 100 using list comprehension.\n",
    "'''Note: Use a list comprehension to create a list from 1 to 100 and use another\n",
    "List comprehension to filter\n",
    "out odd numbers.'''\n",
    "l=[]\n",
    "i=1\n",
    "while(i<101):\n",
    "    l.append(i)\n",
    "    i+=1\n",
    "print(\"list:\",l)\n",
    "\n",
    "new_list=[i for i in l if i%2!=0] #list comprehension\n",
    "print(\"new list:\",new_list)"
   ]
  },
  {
   "cell_type": "code",
   "execution_count": null,
   "id": "bdbd7fe4-95b5-4869-98a5-a3ae761d8ccc",
   "metadata": {},
   "outputs": [],
   "source": []
  }
 ],
 "metadata": {
  "kernelspec": {
   "display_name": "Python 3 (ipykernel)",
   "language": "python",
   "name": "python3"
  },
  "language_info": {
   "codemirror_mode": {
    "name": "ipython",
    "version": 3
   },
   "file_extension": ".py",
   "mimetype": "text/x-python",
   "name": "python",
   "nbconvert_exporter": "python",
   "pygments_lexer": "ipython3",
   "version": "3.10.8"
  }
 },
 "nbformat": 4,
 "nbformat_minor": 5
}
